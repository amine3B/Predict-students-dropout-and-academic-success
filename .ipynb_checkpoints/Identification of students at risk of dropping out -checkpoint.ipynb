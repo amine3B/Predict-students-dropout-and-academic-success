{
 "cells": [
  {
   "cell_type": "markdown",
   "id": "e8a9a98d-4add-4211-8521-282693429126",
   "metadata": {},
   "source": [
    "##Projet Identification of students at risk of dropping out"
   ]
  },
  {
   "cell_type": "code",
   "execution_count": null,
   "id": "69d83c98-8ca9-41c2-9bf6-61b92b2646f7",
   "metadata": {},
   "outputs": [],
   "source": []
  }
 ],
 "metadata": {
  "kernelspec": {
   "display_name": "Python [conda env:base] *",
   "language": "python",
   "name": "conda-base-py"
  },
  "language_info": {
   "codemirror_mode": {
    "name": "ipython",
    "version": 3
   },
   "file_extension": ".py",
   "mimetype": "text/x-python",
   "name": "python",
   "nbconvert_exporter": "python",
   "pygments_lexer": "ipython3",
   "version": "3.12.7"
  }
 },
 "nbformat": 4,
 "nbformat_minor": 5
}
